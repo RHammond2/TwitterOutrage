{
 "cells": [
  {
   "cell_type": "code",
   "execution_count": 12,
   "metadata": {},
   "outputs": [],
   "source": [
    "import numpy as np\n",
    "import pandas as pd\n",
    "import tweetclassifier as tc\n",
    "import pickle"
   ]
  },
  {
   "cell_type": "code",
   "execution_count": 16,
   "metadata": {},
   "outputs": [
    {
     "name": "stderr",
     "output_type": "stream",
     "text": [
      "/Users/rhammond/anaconda3/lib/python3.6/site-packages/sklearn/base.py:311: UserWarning: Trying to unpickle estimator MinMaxScaler from version 0.19.0 when using version 0.19.1. This might lead to breaking code or invalid results. Use at your own risk.\n",
      "  UserWarning)\n"
     ]
    }
   ],
   "source": [
    "outrage_scaler = pickle.load(open('model_files/outrage_scaler.pkl', 'rb'))\n",
    "exp_outrage_scaler = pickle.load(open('model_files/ext_outrage_scaler.pkl', 'rb'))\n",
    "valence_scaler = pickle.load(open('model_files/valence_scaler.pkl', 'rb'))\n",
    "arousal_scaler = pickle.load(open('model_files/arousal_scaler.pkl', 'rb'))\n",
    "# emoji_scaler = pickle.load(open('model_files/emoji_scaler.pkl', 'rb'))\n",
    "# negative_sent_scaler = pickle.load(open('model_files/negative_sent_scaler.pkl', 'rb'))\n",
    "topic_valence_scaler = pickle.load(open('model_files/topic_valence_scaler.pkl', 'rb'))\n",
    "topic_arousal_scaler = pickle.load(open('model_files/topic_arousal_scaler.pkl', 'rb'))"
   ]
  },
  {
   "cell_type": "code",
   "execution_count": 17,
   "metadata": {},
   "outputs": [
    {
     "name": "stderr",
     "output_type": "stream",
     "text": [
      "/Users/rhammond/anaconda3/lib/python3.6/site-packages/sklearn/base.py:311: UserWarning: Trying to unpickle estimator MultinomialNB from version 0.19.0 when using version 0.19.1. This might lead to breaking code or invalid results. Use at your own risk.\n",
      "  UserWarning)\n",
      "/Users/rhammond/anaconda3/lib/python3.6/site-packages/sklearn/base.py:311: UserWarning: Trying to unpickle estimator TfidfTransformer from version 0.19.0 when using version 0.19.1. This might lead to breaking code or invalid results. Use at your own risk.\n",
      "  UserWarning)\n",
      "/Users/rhammond/anaconda3/lib/python3.6/site-packages/sklearn/base.py:311: UserWarning: Trying to unpickle estimator TfidfVectorizer from version 0.19.0 when using version 0.19.1. This might lead to breaking code or invalid results. Use at your own risk.\n",
      "  UserWarning)\n"
     ]
    },
    {
     "name": "stdout",
     "output_type": "stream",
     "text": [
      "Model items loaded and classifier initialized!\n"
     ]
    }
   ],
   "source": [
    "clf = tc.classifytweet()"
   ]
  },
  {
   "cell_type": "code",
   "execution_count": 36,
   "metadata": {
    "collapsed": true
   },
   "outputs": [],
   "source": [
    "clf.prepare_tweet(\"I'm in the running to win a M1A SOCOM Rifle thanks to @GunWinner! #GunGiveaways #SpringfieldArmory https://t.co/UBONPvLDLk\")"
   ]
  },
  {
   "cell_type": "code",
   "execution_count": 37,
   "metadata": {},
   "outputs": [
    {
     "data": {
      "text/plain": [
       "[(16, 0.12708272440589666), (57, 0.75208394226077024)]"
      ]
     },
     "execution_count": 37,
     "metadata": {},
     "output_type": "execute_result"
    }
   ],
   "source": [
    "topics = clf.get_topics()\n",
    "topics"
   ]
  },
  {
   "cell_type": "code",
   "execution_count": 38,
   "metadata": {},
   "outputs": [
    {
     "data": {
      "text/plain": [
       "(0.31333265971532087, 0.32735532600704814)"
      ]
     },
     "execution_count": 38,
     "metadata": {},
     "output_type": "execute_result"
    }
   ],
   "source": [
    "topic_arousal=0\n",
    "topic_valence=0\n",
    "for tup in topics:\n",
    "    topic_arousal += clf.topic_arousal_scaler[tup[0]] * tup[1]\n",
    "    topic_valence += clf.topic_valence_scaler[tup[0]] * tup[1]\n",
    "topic_arousal, topic_valence"
   ]
  },
  {
   "cell_type": "code",
   "execution_count": 39,
   "metadata": {},
   "outputs": [
    {
     "name": "stderr",
     "output_type": "stream",
     "text": [
      "/Users/rhammond/Documents/TwitterOutrage/tweetclassifier.py:138: RuntimeWarning: invalid value encountered in true_divide\n",
      "  sd_ratio = total_sd / sd\n",
      "/Users/rhammond/Documents/TwitterOutrage/tweetclassifier.py:140: RuntimeWarning: invalid value encountered in true_divide\n",
      "  sd_weight = sd_ratio / np.sum(sd_ratio)\n",
      "/Users/rhammond/Documents/TwitterOutrage/tweetclassifier.py:116: RuntimeWarning: invalid value encountered in true_divide\n",
      "  sd_ratio = total_sd / sd\n",
      "/Users/rhammond/Documents/TwitterOutrage/tweetclassifier.py:118: RuntimeWarning: invalid value encountered in true_divide\n",
      "  sd_weight = sd_ratio / np.sum(sd_ratio)\n"
     ]
    },
    {
     "data": {
      "text/plain": [
       "([(16, 0.12708272440589666), (57, 0.75208394226077024)],\n",
       " nan,\n",
       " nan,\n",
       " 0.31333265971532087,\n",
       " 0.32735532600704814)"
      ]
     },
     "execution_count": 39,
     "metadata": {},
     "output_type": "execute_result"
    }
   ],
   "source": [
    "topics,clf.get_arousal_score(), clf.get_valence_score(), topic_arousal, topic_valence"
   ]
  },
  {
   "cell_type": "code",
   "execution_count": 40,
   "metadata": {
    "collapsed": true
   },
   "outputs": [],
   "source": [
    "valence_mean = pickle.load(open('model_files/valence_mean.pkl', 'rb'))"
   ]
  },
  {
   "cell_type": "code",
   "execution_count": 41,
   "metadata": {},
   "outputs": [
    {
     "data": {
      "text/plain": [
       "[\"i'm_run\",\n",
       " 'win_m1a',\n",
       " 'socom_rifl',\n",
       " 'thank_@gunwinn',\n",
       " '!',\n",
       " '#gungiveaway',\n",
       " '#springfieldarmori',\n",
       " 'https://t.co/ubonpvldlk']"
      ]
     },
     "execution_count": 41,
     "metadata": {},
     "output_type": "execute_result"
    }
   ],
   "source": [
    "clf.phrased"
   ]
  },
  {
   "cell_type": "code",
   "execution_count": 29,
   "metadata": {},
   "outputs": [
    {
     "data": {
      "text/plain": [
       "4538"
      ]
     },
     "execution_count": 29,
     "metadata": {},
     "output_type": "execute_result"
    }
   ],
   "source": [
    "clf.word_map['written']"
   ]
  },
  {
   "cell_type": "code",
   "execution_count": 30,
   "metadata": {},
   "outputs": [
    {
     "data": {
      "text/html": [
       "<div>\n",
       "<style>\n",
       "    .dataframe thead tr:only-child th {\n",
       "        text-align: right;\n",
       "    }\n",
       "\n",
       "    .dataframe thead th {\n",
       "        text-align: left;\n",
       "    }\n",
       "\n",
       "    .dataframe tbody tr th {\n",
       "        vertical-align: top;\n",
       "    }\n",
       "</style>\n",
       "<table border=\"1\" class=\"dataframe\">\n",
       "  <thead>\n",
       "    <tr style=\"text-align: right;\">\n",
       "      <th></th>\n",
       "      <th>Unnamed: 0</th>\n",
       "      <th>user.description</th>\n",
       "      <th>text</th>\n",
       "      <th>topic</th>\n",
       "      <th>log_followers</th>\n",
       "      <th>log_retweets</th>\n",
       "      <th>engagement_flag</th>\n",
       "      <th>positive_emo</th>\n",
       "      <th>outrage_emo</th>\n",
       "      <th>net_emo_outrage</th>\n",
       "      <th>...</th>\n",
       "      <th>negative_sentiment_prob</th>\n",
       "      <th>num_outrage_words_ext</th>\n",
       "      <th>num_outrage_words</th>\n",
       "      <th>arousal</th>\n",
       "      <th>valence</th>\n",
       "      <th>sentiment</th>\n",
       "      <th>topics</th>\n",
       "      <th>topic_arousal</th>\n",
       "      <th>topic_valence</th>\n",
       "      <th>outrage</th>\n",
       "    </tr>\n",
       "  </thead>\n",
       "  <tbody>\n",
       "    <tr>\n",
       "      <th>0</th>\n",
       "      <td>0</td>\n",
       "      <td>Part of the #VastRightWingConspiracy -- thanks...</td>\n",
       "      <td>#BanTheBox means \"all is #forgiven\"/NO MORE fe...</td>\n",
       "      <td>G</td>\n",
       "      <td>5.252273</td>\n",
       "      <td>0.0</td>\n",
       "      <td>0</td>\n",
       "      <td>0</td>\n",
       "      <td>0</td>\n",
       "      <td>0</td>\n",
       "      <td>...</td>\n",
       "      <td>0.265578</td>\n",
       "      <td>0</td>\n",
       "      <td>6.679349</td>\n",
       "      <td>2.493665</td>\n",
       "      <td>4.674877</td>\n",
       "      <td>0.457199</td>\n",
       "      <td>0.332620311833</td>\n",
       "      <td>0.300217</td>\n",
       "      <td>0.910757</td>\n",
       "      <td>0</td>\n",
       "    </tr>\n",
       "    <tr>\n",
       "      <th>1</th>\n",
       "      <td>1</td>\n",
       "      <td>War Veteran who loves his country. Never forge...</td>\n",
       "      <td>BOYCOTT NOV 4 @ABC @CMAwards &amp;gt; THREAT TO AL...</td>\n",
       "      <td>G</td>\n",
       "      <td>9.936148</td>\n",
       "      <td>0.0</td>\n",
       "      <td>0</td>\n",
       "      <td>0</td>\n",
       "      <td>0</td>\n",
       "      <td>0</td>\n",
       "      <td>...</td>\n",
       "      <td>0.449931</td>\n",
       "      <td>0</td>\n",
       "      <td>4.800000</td>\n",
       "      <td>6.640000</td>\n",
       "      <td>4.928830</td>\n",
       "      <td>0.486539</td>\n",
       "      <td>0.437939713814</td>\n",
       "      <td>0.528602</td>\n",
       "      <td>0.388114</td>\n",
       "      <td>0</td>\n",
       "    </tr>\n",
       "    <tr>\n",
       "      <th>2</th>\n",
       "      <td>2</td>\n",
       "      <td>Retired: cowboy,truck driver Served in the USA...</td>\n",
       "      <td>Savage: This is the Most Corrupt, Degenerate, ...</td>\n",
       "      <td>G</td>\n",
       "      <td>4.043051</td>\n",
       "      <td>0.0</td>\n",
       "      <td>0</td>\n",
       "      <td>0</td>\n",
       "      <td>0</td>\n",
       "      <td>0</td>\n",
       "      <td>...</td>\n",
       "      <td>0.583269</td>\n",
       "      <td>1</td>\n",
       "      <td>4.457031</td>\n",
       "      <td>4.100426</td>\n",
       "      <td>4.056568</td>\n",
       "      <td>0.510775</td>\n",
       "      <td>0.352588091142</td>\n",
       "      <td>0.327063</td>\n",
       "      <td>0.448320</td>\n",
       "      <td>0</td>\n",
       "    </tr>\n",
       "    <tr>\n",
       "      <th>3</th>\n",
       "      <td>3</td>\n",
       "      <td>Bartender...Bouncer...Autobody......Gravedigge...</td>\n",
       "      <td>Guns N' Roses - November Rain https://t.co/w2p...</td>\n",
       "      <td>G</td>\n",
       "      <td>6.107023</td>\n",
       "      <td>0.0</td>\n",
       "      <td>0</td>\n",
       "      <td>0</td>\n",
       "      <td>0</td>\n",
       "      <td>0</td>\n",
       "      <td>...</td>\n",
       "      <td>0.470496</td>\n",
       "      <td>0</td>\n",
       "      <td>0.000000</td>\n",
       "      <td>7.740000</td>\n",
       "      <td>3.660000</td>\n",
       "      <td>0.501845</td>\n",
       "      <td>[(16, 0.19069455696606163), (29, 0.37598629376...</td>\n",
       "      <td>0.366314</td>\n",
       "      <td>0.284348</td>\n",
       "      <td>0</td>\n",
       "    </tr>\n",
       "    <tr>\n",
       "      <th>4</th>\n",
       "      <td>4</td>\n",
       "      <td>Ming doesn't have a trajectory problem.</td>\n",
       "      <td>I'll say it again: #Tarantino was merely corre...</td>\n",
       "      <td>G</td>\n",
       "      <td>5.081404</td>\n",
       "      <td>0.0</td>\n",
       "      <td>0</td>\n",
       "      <td>0</td>\n",
       "      <td>0</td>\n",
       "      <td>0</td>\n",
       "      <td>...</td>\n",
       "      <td>0.362593</td>\n",
       "      <td>1</td>\n",
       "      <td>6.048368</td>\n",
       "      <td>3.826148</td>\n",
       "      <td>3.826148</td>\n",
       "      <td>0.480766</td>\n",
       "      <td>0.645340071404</td>\n",
       "      <td>0.460490</td>\n",
       "      <td>0.460483</td>\n",
       "      <td>0</td>\n",
       "    </tr>\n",
       "  </tbody>\n",
       "</table>\n",
       "<p>5 rows × 21 columns</p>\n",
       "</div>"
      ],
      "text/plain": [
       "   Unnamed: 0                                   user.description  \\\n",
       "0           0  Part of the #VastRightWingConspiracy -- thanks...   \n",
       "1           1  War Veteran who loves his country. Never forge...   \n",
       "2           2  Retired: cowboy,truck driver Served in the USA...   \n",
       "3           3  Bartender...Bouncer...Autobody......Gravedigge...   \n",
       "4           4            Ming doesn't have a trajectory problem.   \n",
       "\n",
       "                                                text topic  log_followers  \\\n",
       "0  #BanTheBox means \"all is #forgiven\"/NO MORE fe...     G       5.252273   \n",
       "1  BOYCOTT NOV 4 @ABC @CMAwards &gt; THREAT TO AL...     G       9.936148   \n",
       "2  Savage: This is the Most Corrupt, Degenerate, ...     G       4.043051   \n",
       "3  Guns N' Roses - November Rain https://t.co/w2p...     G       6.107023   \n",
       "4  I'll say it again: #Tarantino was merely corre...     G       5.081404   \n",
       "\n",
       "   log_retweets  engagement_flag  positive_emo  outrage_emo  net_emo_outrage  \\\n",
       "0           0.0                0             0            0                0   \n",
       "1           0.0                0             0            0                0   \n",
       "2           0.0                0             0            0                0   \n",
       "3           0.0                0             0            0                0   \n",
       "4           0.0                0             0            0                0   \n",
       "\n",
       "    ...     negative_sentiment_prob  num_outrage_words_ext  num_outrage_words  \\\n",
       "0   ...                    0.265578                      0           6.679349   \n",
       "1   ...                    0.449931                      0           4.800000   \n",
       "2   ...                    0.583269                      1           4.457031   \n",
       "3   ...                    0.470496                      0           0.000000   \n",
       "4   ...                    0.362593                      1           6.048368   \n",
       "\n",
       "    arousal   valence  sentiment  \\\n",
       "0  2.493665  4.674877   0.457199   \n",
       "1  6.640000  4.928830   0.486539   \n",
       "2  4.100426  4.056568   0.510775   \n",
       "3  7.740000  3.660000   0.501845   \n",
       "4  3.826148  3.826148   0.480766   \n",
       "\n",
       "                                              topics topic_arousal  \\\n",
       "0                                     0.332620311833      0.300217   \n",
       "1                                     0.437939713814      0.528602   \n",
       "2                                     0.352588091142      0.327063   \n",
       "3  [(16, 0.19069455696606163), (29, 0.37598629376...      0.366314   \n",
       "4                                     0.645340071404      0.460490   \n",
       "\n",
       "   topic_valence  outrage  \n",
       "0       0.910757        0  \n",
       "1       0.388114        0  \n",
       "2       0.448320        0  \n",
       "3       0.284348        0  \n",
       "4       0.460483        0  \n",
       "\n",
       "[5 rows x 21 columns]"
      ]
     },
     "execution_count": 30,
     "metadata": {},
     "output_type": "execute_result"
    }
   ],
   "source": [
    "df = pd.read_csv('classified_emofix.csv')\n",
    "df.head()"
   ]
  },
  {
   "cell_type": "code",
   "execution_count": 34,
   "metadata": {},
   "outputs": [
    {
     "name": "stdout",
     "output_type": "stream",
     "text": [
      "['#BanTheBox means \"all is #forgiven\"/NO MORE federal #NCIC checks when buying guns? Please consider it, Mr. President @POTUS. #forgiving', 'BOYCOTT NOV 4 @ABC @CMAwards &gt; THREAT TO ALL GUN OWNERS - BOYCOTT HIS MUSIC &gt; @TheTimMcGraw GUN CONTROL EXTREMIST https://t.co/xMuE2o7vV7 …', 'Savage: This is the Most Corrupt, Degenerate, Criminal Gov’t in American History https://t.co/qW12kzuBWH Take my guns lead first.', \"Guns N' Roses - November Rain https://t.co/w2pHuG0QBa via @YouTube\", \"I'll say it again: #Tarantino was merely correct. And, to his credit, he's sticking to his rhetorical guns. #BadCops https://t.co/7M4uTpXwyc\", \"I'm in the running to win a M1A SOCOM Rifle thanks to @GunWinner! #GunGiveaways #SpringfieldArmory https://t.co/UBONPvLDLk\", 'Got some juicy stories - DCF neglect, GA gun smuggling, \"Death to America\" revisited - tune in to 89.7 at 5:50!', '@HillaryforIA @HillaryClinton Hillary on gun violence prevention: \"I will fight for comprehensive background checks.\"https://t.co/srdqISEXxT', 'This should end the argument about what the 2nd amendment means. https://t.co/Fu9KyjZdoO', 'Well written!  Must read!  https://t.co/XxqzDFwIzC']\n"
     ]
    }
   ],
   "source": [
    "texts = df.text[:10].values.tolist()\n",
    "print(texts)"
   ]
  },
  {
   "cell_type": "code",
   "execution_count": 35,
   "metadata": {},
   "outputs": [
    {
     "name": "stdout",
     "output_type": "stream",
     "text": [
      "0.508513868079 0.437370502795\n",
      "0.452194969249 0.388114298053\n",
      "0.561741381187 0.44831198754\n",
      "0.365618667579 0.283904667166\n",
      "0.508364030054 0.490247687294\n",
      "0.313332659726 0.327355326014\n",
      "0.6177195533 0.6337832404\n",
      "0.647268662836 0.487457253592\n",
      "0.725313374609 0.517578533871\n",
      "0.184030909243 0.216911562897\n"
     ]
    }
   ],
   "source": [
    "for tweet in texts:\n",
    "    clf.prepare_tweet(tweet)\n",
    "    topics = clf.get_topics()\n",
    "    topic_arousal=0\n",
    "    topic_valence=0\n",
    "    for tup in topics:\n",
    "        topic_arousal += clf.topic_arousal_scaler[tup[0]] * tup[1]\n",
    "        topic_valence += clf.topic_valence_scaler[tup[0]] * tup[1]\n",
    "    print(topic_arousal, topic_valence)"
   ]
  },
  {
   "cell_type": "code",
   "execution_count": null,
   "metadata": {
    "collapsed": true
   },
   "outputs": [],
   "source": []
  }
 ],
 "metadata": {
  "kernelspec": {
   "display_name": "Python 3",
   "language": "python",
   "name": "python3"
  },
  "language_info": {
   "codemirror_mode": {
    "name": "ipython",
    "version": 3
   },
   "file_extension": ".py",
   "mimetype": "text/x-python",
   "name": "python",
   "nbconvert_exporter": "python",
   "pygments_lexer": "ipython3",
   "version": "3.6.4"
  }
 },
 "nbformat": 4,
 "nbformat_minor": 2
}
